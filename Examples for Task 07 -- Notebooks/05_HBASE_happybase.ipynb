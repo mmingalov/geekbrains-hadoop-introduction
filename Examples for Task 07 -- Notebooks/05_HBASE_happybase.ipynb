{
 "cells": [
  {
   "cell_type": "markdown",
   "metadata": {},
   "source": [
    "# Работа с HBASE (happybase+thrift)\n",
    "https://github.com/3601314/hbase-python"
   ]
  },
  {
   "cell_type": "markdown",
   "metadata": {},
   "source": [
    "## Как установить нужные модули"
   ]
  },
  {
   "cell_type": "code",
   "execution_count": 5,
   "metadata": {},
   "outputs": [
    {
     "name": "stdout",
     "output_type": "stream",
     "text": [
      "Requirement already satisfied: hbase-python in /opt/anaconda3/lib/python3.7/site-packages (0.5)\n",
      "Requirement already satisfied: google-api-python-client in /opt/anaconda3/lib/python3.7/site-packages (1.8.2)\n",
      "Requirement already satisfied: kazoo in /opt/anaconda3/lib/python3.7/site-packages (2.7.0)\n",
      "Requirement already satisfied: requests in /opt/anaconda3/lib/python3.7/site-packages (from hbase-python) (2.22.0)\n",
      "Requirement already satisfied: six<2dev,>=1.6.1 in /opt/anaconda3/lib/python3.7/site-packages (from google-api-python-client) (1.12.0)\n",
      "Requirement already satisfied: google-auth-httplib2>=0.0.3 in /opt/anaconda3/lib/python3.7/site-packages (from google-api-python-client) (0.0.3)\n",
      "Requirement already satisfied: google-api-core<2dev,>=1.13.0 in /opt/anaconda3/lib/python3.7/site-packages (from google-api-python-client) (1.17.0)\n",
      "Requirement already satisfied: uritemplate<4dev,>=3.0.0 in /opt/anaconda3/lib/python3.7/site-packages (from google-api-python-client) (3.0.1)\n",
      "Requirement already satisfied: httplib2<1dev,>=0.9.2 in /opt/anaconda3/lib/python3.7/site-packages (from google-api-python-client) (0.17.3)\n",
      "Requirement already satisfied: google-auth>=1.4.1 in /opt/anaconda3/lib/python3.7/site-packages (from google-api-python-client) (1.14.1)\n",
      "Requirement already satisfied: urllib3!=1.25.0,!=1.25.1,<1.26,>=1.21.1 in /opt/anaconda3/lib/python3.7/site-packages (from requests->hbase-python) (1.24.2)\n",
      "Requirement already satisfied: idna<2.9,>=2.5 in /opt/anaconda3/lib/python3.7/site-packages (from requests->hbase-python) (2.8)\n",
      "Requirement already satisfied: certifi>=2017.4.17 in /opt/anaconda3/lib/python3.7/site-packages (from requests->hbase-python) (2019.9.11)\n",
      "Requirement already satisfied: chardet<3.1.0,>=3.0.2 in /opt/anaconda3/lib/python3.7/site-packages (from requests->hbase-python) (3.0.4)\n",
      "Requirement already satisfied: googleapis-common-protos<2.0dev,>=1.6.0 in /opt/anaconda3/lib/python3.7/site-packages (from google-api-core<2dev,>=1.13.0->google-api-python-client) (1.51.0)\n",
      "Requirement already satisfied: setuptools>=34.0.0 in /opt/anaconda3/lib/python3.7/site-packages (from google-api-core<2dev,>=1.13.0->google-api-python-client) (41.4.0)\n",
      "Requirement already satisfied: pytz in /opt/anaconda3/lib/python3.7/site-packages (from google-api-core<2dev,>=1.13.0->google-api-python-client) (2019.3)\n",
      "Requirement already satisfied: protobuf>=3.4.0 in /opt/anaconda3/lib/python3.7/site-packages (from google-api-core<2dev,>=1.13.0->google-api-python-client) (3.11.3)\n",
      "Requirement already satisfied: pyasn1-modules>=0.2.1 in /opt/anaconda3/lib/python3.7/site-packages (from google-auth>=1.4.1->google-api-python-client) (0.2.8)\n",
      "Requirement already satisfied: cachetools<5.0,>=2.0.0 in /opt/anaconda3/lib/python3.7/site-packages (from google-auth>=1.4.1->google-api-python-client) (4.1.0)\n",
      "Requirement already satisfied: rsa<4.1,>=3.1.4 in /opt/anaconda3/lib/python3.7/site-packages (from google-auth>=1.4.1->google-api-python-client) (4.0)\n",
      "Requirement already satisfied: pyasn1<0.5.0,>=0.4.6 in /opt/anaconda3/lib/python3.7/site-packages (from pyasn1-modules>=0.2.1->google-auth>=1.4.1->google-api-python-client) (0.4.8)\n"
     ]
    }
   ],
   "source": [
    "!python3 -m pip install happybase"
   ]
  },
  {
   "cell_type": "code",
   "execution_count": 1,
   "metadata": {},
   "outputs": [],
   "source": [
    "import happybase"
   ]
  },
  {
   "cell_type": "code",
   "execution_count": 2,
   "metadata": {},
   "outputs": [],
   "source": [
    "connection = happybase.Connection(host='89.208.221.132', port=9090, autoconnect=True)"
   ]
  },
  {
   "cell_type": "markdown",
   "metadata": {},
   "source": [
    "# Get row by key"
   ]
  },
  {
   "cell_type": "code",
   "execution_count": 3,
   "metadata": {},
   "outputs": [],
   "source": [
    "table = connection.table('UsersTable')"
   ]
  },
  {
   "cell_type": "code",
   "execution_count": 4,
   "metadata": {},
   "outputs": [],
   "source": [
    "rows = table.rows(['User1'])"
   ]
  },
  {
   "cell_type": "code",
   "execution_count": 5,
   "metadata": {},
   "outputs": [
    {
     "name": "stdout",
     "output_type": "stream",
     "text": [
      "b'User1' {b'Hobbbie:Main': b'Gardening', b'Person:Age': b'39', b'Person:FirstName': b'Andrey', b'Person:LastName': b'Dekanovich', b'Talents:MainSkill': b'Hadoop', b'Talents:SecondarySkill': b'Oracle'}\n"
     ]
    }
   ],
   "source": [
    "for key, data in rows:\n",
    "    print(key, data)"
   ]
  }
 ],
 "metadata": {
  "kernelspec": {
   "display_name": "Python 3",
   "language": "python",
   "name": "python3"
  },
  "language_info": {
   "codemirror_mode": {
    "name": "ipython",
    "version": 3
   },
   "file_extension": ".py",
   "mimetype": "text/x-python",
   "name": "python",
   "nbconvert_exporter": "python",
   "pygments_lexer": "ipython3",
   "version": "3.7.4"
  }
 },
 "nbformat": 4,
 "nbformat_minor": 2
}
