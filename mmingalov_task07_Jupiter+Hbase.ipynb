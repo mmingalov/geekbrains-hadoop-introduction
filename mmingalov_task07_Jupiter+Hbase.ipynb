{
 "cells": [
  {
   "cell_type": "markdown",
   "metadata": {},
   "source": [
    "## Задание\n",
    "На основе импортированных в Hbase данных создать любой график в Jupyter или Zeppelin."
   ]
  },
  {
   "cell_type": "code",
   "execution_count": 64,
   "metadata": {},
   "outputs": [],
   "source": [
    "import happybase"
   ]
  },
  {
   "cell_type": "code",
   "execution_count": 82,
   "metadata": {},
   "outputs": [],
   "source": [
    "import matplotlib.pyplot as plt"
   ]
  },
  {
   "cell_type": "code",
   "execution_count": 114,
   "metadata": {},
   "outputs": [],
   "source": [
    "connection = happybase.Connection(host='89.208.221.132', port=9090, autoconnect=True)"
   ]
  },
  {
   "cell_type": "markdown",
   "metadata": {},
   "source": [
    "### возьмем таблицу Student3_7, которая содержит набор сообщений"
   ]
  },
  {
   "cell_type": "code",
   "execution_count": 115,
   "metadata": {},
   "outputs": [],
   "source": [
    "table2 = connection.table('Student3_7')"
   ]
  },
  {
   "cell_type": "code",
   "execution_count": 116,
   "metadata": {},
   "outputs": [
    {
     "data": {
      "text/plain": [
       "[(b'Message1',\n",
       "  {b'Message:Text': b'Lorem ipsum dolor sit amet, consectetur adipiscing elit, sed do eiusmod tempor incididunt ut labore et dolore magna aliqua. Lobortis scelerisque fermentum dui faucibus in ornare quam viverra orci. Vitae congue eu consequat ac felis donec et odio. Et leo duis ut diam. Egestas maecenas pharetra convallis posuere. Congue eu consequat ac felis donec. Id velit ut tortor pretium viverra suspendisse potenti. Sed risus pretium quam vulputate dignissim suspendisse in. Odio morbi quis commodo odio aenean sed. Vel orci porta non pulvinar neque. Tellus integer feugiat scelerisque varius morbi enim. Morbi tristique senectus et netus et. Ante metus dictum at tempor commodo ullamcorper a lacus vestibulum. Tristique sollicitudin nibh sit amet commodo nulla facilisi. Ut enim blandit volutpat maecenas volutpat blandit aliquam. Est ultricies integer quis auctor elit sed vulputate mi sit. Ut diam quam nulla porttitor massa. Adipiscing bibendum est ultricies integer quis auctor elit. At auctor urna nunc id cursus.'}),\n",
       " (b'Message2',\n",
       "  {b'Message:Text': b'Eget felis eget nunc lobortis mattis. Interdum posuere lorem ipsum dolor. Tellus integer feugiat scelerisque varius. Nisi vitae suscipit tellus mauris a diam. Metus aliquam eleifend mi in nulla posuere sollicitudin. Adipiscing diam donec adipiscing tristique risus. Cursus mattis molestie a iaculis. Semper quis lectus nulla at. Aliquam eleifend mi in nulla. Ultrices neque ornare aenean euismod elementum nisi quis. At in tellus integer feugiat scelerisque. Proin fermentum leo vel orci porta non pulvinar neque laoreet. Lectus magna fringilla urna porttitor rhoncus dolor purus non. Viverra vitae congue eu consequat ac felis.'}),\n",
       " (b'Message3',\n",
       "  {b'Message:Text': b'Tristique magna sit amet purus gravida quis. Sed euismod nisi porta lorem mollis aliquam. Est ultricies integer quis auctor. Ornare massa eget egestas purus viverra accumsan in nisl. Vestibulum sed arcu non odio. Libero enim sed faucibus turpis in eu. Sed tempus urna et pharetra pharetra massa massa. Lacus sed viverra tellus in hac. Lacus luctus accumsan tortor posuere ac ut consequat semper. Sapien pellentesque habitant morbi tristique senectus. Sit amet est placerat in egestas. Ornare quam viverra orci sagittis eu volutpat. Tellus integer feugiat scelerisque varius morbi enim nunc faucibus a. Pellentesque habitant morbi tristique senectus et netus. Consequat semper viverra nam libero justo laoreet sit.'}),\n",
       " (b'Message4',\n",
       "  {b'Message:Text': b'Malesuada bibendum arcu vitae elementum curabitur vitae nunc sed velit. Semper risus in hendrerit gravida rutrum quisque non tellus. Ornare aenean euismod elementum nisi quis eleifend quam. Iaculis eu non diam phasellus vestibulum lorem. Sollicitudin tempor id eu nisl nunc mi ipsum. Morbi tempus iaculis urna id volutpat lacus laoreet. Diam maecenas ultricies mi eget mauris pharetra. Faucibus purus in massa tempor nec feugiat nisl. Leo in vitae turpis massa sed elementum tempus. Purus in massa tempor nec feugiat nisl pretium. Quis hendrerit dolor magna eget est lorem. Cras tincidunt lobortis feugiat vivamus at augue eget arcu. Nam libero justo laoreet sit amet cursus sit. Tempor orci dapibus ultrices in iaculis nunc sed augue lacus. Elementum integer enim neque volutpat ac tincidunt vitae semper.'}),\n",
       " (b'Message5',\n",
       "  {b'Message:Text': b'Et molestie ac feugiat sed lectus. Nec feugiat nisl pretium fusce id velit ut tortor pretium. Bibendum arcu vitae elementum curabitur vitae. Turpis tincidunt id aliquet risus feugiat in. Vulputate dignissim suspendisse in est ante in nibh. Nisl nisi scelerisque eu ultrices. Aliquet bibendum enim facilisis gravida neque convallis a. Scelerisque in dictum non consectetur. Mi bibendum neque egestas congue. Augue mauris augue neque gravida in fermentum et. In tellus integer feugiat scelerisque varius. Lectus proin nibh nisl condimentum id venenatis. Adipiscing elit pellentesque habitant morbi. Ut sem nulla pharetra diam sit amet nisl suscipit adipiscing. Fermentum et sollicitudin ac orci phasellus egestas. Volutpat blandit aliquam etiam erat velit. Et sollicitudin ac orci phasellus egestas tellus rutrum tellus pellentesque. Habitasse platea dictumst vestibulum rhoncus est.'})]"
      ]
     },
     "execution_count": 116,
     "metadata": {},
     "output_type": "execute_result"
    }
   ],
   "source": [
    "rows = table2.rows(['Message1', 'Message2', 'Message3','Message4', 'Message5'])\n",
    "rows"
   ]
  },
  {
   "cell_type": "code",
   "execution_count": 120,
   "metadata": {},
   "outputs": [],
   "source": [
    "Messages = []\n",
    "MessagesLength = []\n",
    "WordsCount = []\n",
    "for key, data in rows:\n",
    "    t = str(data[b'Message:Text'])\n",
    "    Messages.append(key)\n",
    "    MessagesLength.append(len(t))\n",
    "    w = t.split(' ')\n",
    "    WordsCount.append(len(w))"
   ]
  },
  {
   "cell_type": "code",
   "execution_count": 121,
   "metadata": {},
   "outputs": [],
   "source": [
    "#MessagesLength"
   ]
  },
  {
   "cell_type": "code",
   "execution_count": 122,
   "metadata": {},
   "outputs": [
    {
     "data": {
      "text/plain": [
       "[152, 92, 107, 124, 125]"
      ]
     },
     "execution_count": 122,
     "metadata": {},
     "output_type": "execute_result"
    }
   ],
   "source": [
    "WordsCount"
   ]
  },
  {
   "cell_type": "code",
   "execution_count": 124,
   "metadata": {},
   "outputs": [
    {
     "data": {
      "text/plain": [
       "[Text(0, 0.5, 'Сообщение'),\n",
       " Text(0.5, 0, 'Всего слов/символов'),\n",
       " Text(0.5, 1.0, 'Анализ длины сообщений')]"
      ]
     },
     "execution_count": 124,
     "metadata": {},
     "output_type": "execute_result"
    },
    {
     "data": {
      "image/png": "[encoded data removed]",
      "text/plain": [
       "<Figure size 432x288 with 1 Axes>"
      ]
     },
     "metadata": {
      "needs_background": "light"
     },
     "output_type": "display_data"
    }
   ],
   "source": [
    "fig, ax = plt.subplots()\n",
    "#ax.barh(group_names, group_data)\n",
    "ax.barh(Messages, MessagesLength)\n",
    "ax.barh(Messages, WordsCount)\n",
    "\n",
    "ax.set(xlabel='Всего слов/символов', ylabel='Сообщение',\n",
    "       title='Анализ длины сообщений')"
   ]
  },
  {
   "cell_type": "code",
   "execution_count": null,
   "metadata": {},
   "outputs": [],
   "source": []
  }
 ],
 "metadata": {
  "kernelspec": {
   "display_name": "Python 3",
   "language": "python",
   "name": "python3"
  },
  "language_info": {
   "codemirror_mode": {
    "name": "ipython",
    "version": 3
   },
   "file_extension": ".py",
   "mimetype": "text/x-python",
   "name": "python",
   "nbconvert_exporter": "python",
   "pygments_lexer": "ipython3",
   "version": "3.7.4"
  }
 },
 "nbformat": 4,
 "nbformat_minor": 2
}
